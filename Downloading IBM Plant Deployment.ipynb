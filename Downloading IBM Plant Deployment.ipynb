{
 "cells": [
  {
   "cell_type": "code",
   "execution_count": 4,
   "metadata": {},
   "outputs": [
    {
     "name": "stdout",
     "output_type": "stream",
     "text": [
      "Collecting ibm-watson-machine-learning\n",
      "  Downloading ibm_watson_machine_learning-1.0.45-py3-none-any.whl (1.7 MB)\n",
      "Requirement already satisfied: tabulate in c:\\users\\anaconda3\\envs\\env\\lib\\site-packages (from ibm-watson-machine-learning) (0.8.10)\n",
      "Requirement already satisfied: urllib3 in c:\\users\\anaconda3\\envs\\env\\lib\\site-packages (from ibm-watson-machine-learning) (1.26.10)\n",
      "Requirement already satisfied: requests in c:\\users\\anaconda3\\envs\\env\\lib\\site-packages (from ibm-watson-machine-learning) (2.27.1)\n",
      "Requirement already satisfied: lomond in c:\\users\\anaconda3\\envs\\env\\lib\\site-packages (from ibm-watson-machine-learning) (0.3.3)\n",
      "Requirement already satisfied: certifi in c:\\users\\anaconda3\\envs\\env\\lib\\site-packages (from ibm-watson-machine-learning) (2020.12.5)\n",
      "Collecting ibm-cos-sdk==2.7.*\n",
      "  Using cached ibm-cos-sdk-2.7.0.tar.gz (51 kB)\n",
      "Requirement already satisfied: jmespath<1.0.0,>=0.7.1 in c:\\users\\anaconda3\\envs\\env\\lib\\site-packages (from ibm-cos-sdk==2.7.*->ibm-watson-machine-learning) (0.10.0)\n",
      "Collecting ibm-cos-sdk-core==2.7.0\n",
      "  Using cached ibm-cos-sdk-core-2.7.0.tar.gz (824 kB)\n",
      "Requirement already satisfied: python-dateutil<3.0.0,>=2.1 in c:\\users\\anaconda3\\envs\\env\\lib\\site-packages (from ibm-cos-sdk-core==2.7.0->ibm-cos-sdk==2.7.*->ibm-watson-machine-learning) (2.8.2)\n",
      "Note: you may need to restart the kernel to use updated packages.Collecting ibm-cos-sdk-s3transfer==2.7.0\n",
      "  Using cached ibm-cos-sdk-s3transfer-2.7.0.tar.gz (133 kB)\n",
      "Collecting docutils<0.16,>=0.10\n",
      "  Using cached docutils-0.15.2-py3-none-any.whl (547 kB)\n",
      "\n",
      "Collecting pandas<=1.0.5\n",
      "  Downloading pandas-1.0.5-cp36-cp36m-win_amd64.whl (8.7 MB)\n",
      "Requirement already satisfied: numpy>=1.13.3 in c:\\users\\anaconda3\\envs\\env\\lib\\site-packages (from pandas<=1.0.5->ibm-watson-machine-learning) (1.19.5)\n",
      "Requirement already satisfied: pytz>=2017.2 in c:\\users\\anaconda3\\envs\\env\\lib\\site-packages (from pandas<=1.0.5->ibm-watson-machine-learning) (2021.1)\n",
      "Requirement already satisfied: six>=1.5 in c:\\users\\anaconda3\\envs\\env\\lib\\site-packages (from python-dateutil<3.0.0,>=2.1->ibm-cos-sdk-core==2.7.0->ibm-cos-sdk==2.7.*->ibm-watson-machine-learning) (1.15.0)\n",
      "Requirement already satisfied: idna<4,>=2.5 in c:\\users\\anaconda3\\envs\\env\\lib\\site-packages (from requests->ibm-watson-machine-learning) (3.3)\n",
      "Requirement already satisfied: charset-normalizer~=2.0.0 in c:\\users\\anaconda3\\envs\\env\\lib\\site-packages (from requests->ibm-watson-machine-learning) (2.0.12)\n",
      "Building wheels for collected packages: ibm-cos-sdk, ibm-cos-sdk-core, ibm-cos-sdk-s3transfer\n",
      "  Building wheel for ibm-cos-sdk (setup.py): started\n",
      "  Building wheel for ibm-cos-sdk (setup.py): finished with status 'done'\n",
      "  Created wheel for ibm-cos-sdk: filename=ibm_cos_sdk-2.7.0-py2.py3-none-any.whl size=72555 sha256=669ea4be371010911ab3e969d10cfe4a1b0381918c7978f1cc47307e2b912f40\n",
      "  Stored in directory: c:\\users\\mahee\\appdata\\local\\pip\\cache\\wheels\\63\\3f\\79\\455cae803f116677708f6696114d01f0cf7994c4fa9d33e382\n",
      "  Building wheel for ibm-cos-sdk-core (setup.py): started\n",
      "  Building wheel for ibm-cos-sdk-core (setup.py): finished with status 'done'\n",
      "  Created wheel for ibm-cos-sdk-core: filename=ibm_cos_sdk_core-2.7.0-py2.py3-none-any.whl size=500999 sha256=357a57022b0be64d6b68a30bc068cee1075263084fe45e9c73e517e5436599a5\n",
      "  Stored in directory: c:\\users\\mahee\\appdata\\local\\pip\\cache\\wheels\\c9\\f5\\8d\\90407160ad1564be7e40d2f4ccb8475fc17a9fbdcf145075f5\n",
      "  Building wheel for ibm-cos-sdk-s3transfer (setup.py): started\n",
      "  Building wheel for ibm-cos-sdk-s3transfer (setup.py): finished with status 'done'\n",
      "  Created wheel for ibm-cos-sdk-s3transfer: filename=ibm_cos_sdk_s3transfer-2.7.0-py2.py3-none-any.whl size=88603 sha256=aa2f097930b7237fb57700867d36819699cfc2b652cefac8a19b7fe594896dd2\n",
      "  Stored in directory: c:\\users\\mahee\\appdata\\local\\pip\\cache\\wheels\\bf\\fb\\b7\\ae4b7c14ac4d83ef116794b183e25964591f56057a901aca39\n",
      "Successfully built ibm-cos-sdk ibm-cos-sdk-core ibm-cos-sdk-s3transfer\n",
      "Installing collected packages: docutils, ibm-cos-sdk-core, ibm-cos-sdk-s3transfer, pandas, ibm-cos-sdk, ibm-watson-machine-learning\n",
      "  Attempting uninstall: ibm-cos-sdk-core\n",
      "    Found existing installation: ibm-cos-sdk-core 2.12.0\n",
      "    Uninstalling ibm-cos-sdk-core-2.12.0:\n",
      "      Successfully uninstalled ibm-cos-sdk-core-2.12.0\n",
      "  Attempting uninstall: ibm-cos-sdk-s3transfer\n",
      "    Found existing installation: ibm-cos-sdk-s3transfer 2.12.0\n",
      "    Uninstalling ibm-cos-sdk-s3transfer-2.12.0:\n",
      "      Successfully uninstalled ibm-cos-sdk-s3transfer-2.12.0\n",
      "  Attempting uninstall: pandas\n",
      "    Found existing installation: pandas 1.1.5\n",
      "    Uninstalling pandas-1.1.5:\n",
      "      Successfully uninstalled pandas-1.1.5\n",
      "  Attempting uninstall: ibm-cos-sdk\n",
      "    Found existing installation: ibm-cos-sdk 2.12.0\n",
      "    Uninstalling ibm-cos-sdk-2.12.0:\n",
      "      Successfully uninstalled ibm-cos-sdk-2.12.0\n",
      "Successfully installed docutils-0.15.2 ibm-cos-sdk-2.7.0 ibm-cos-sdk-core-2.7.0 ibm-cos-sdk-s3transfer-2.7.0 ibm-watson-machine-learning-1.0.45 pandas-1.0.5\n"
     ]
    }
   ],
   "source": [
    "pip install ibm-watson-machine-learning"
   ]
  },
  {
   "cell_type": "code",
   "execution_count": 5,
   "metadata": {},
   "outputs": [
    {
     "name": "stdout",
     "output_type": "stream",
     "text": [
      "DEPRECATED!! Python 3.6 framework is deprecated and will be removed on Jan 20th, 2021. It will be read-only mode starting Nov 20th, 2020. i.e you won't be able to create new assets using this client. Use Python 3.7 instead. For details, see https://dataplatform.cloud.ibm.com/docs/content/wsj/analyze-data/pm_service_supported_frameworks.html\n"
     ]
    }
   ],
   "source": [
    "from ibm_watson_machine_learning import APIClient\n",
    "Client=APIClient(wml_credentials)"
   ]
  },
  {
   "cell_type": "code",
   "execution_count": 6,
   "metadata": {},
   "outputs": [],
   "source": [
    " wml_credentials={\n",
    "    \"url\":\"https://jp-tok.ml.cloud.ibm.com\",\n",
    "    \"apikey\":\"CUJ2_OrnputDtDNE89DI1jwSiMsSen-6tzJAhRUwiDeT\"\n",
    "    \n",
    "}"
   ]
  },
  {
   "cell_type": "code",
   "execution_count": 7,
   "metadata": {},
   "outputs": [
    {
     "data": {
      "text/plain": [
       "<ibm_watson_machine_learning.client.APIClient at 0x1caef6d1ef0>"
      ]
     },
     "execution_count": 7,
     "metadata": {},
     "output_type": "execute_result"
    }
   ],
   "source": [
    "Client "
   ]
  },
  {
   "cell_type": "code",
   "execution_count": 8,
   "metadata": {},
   "outputs": [],
   "source": [
    "def guid_space_name(Client, FRS_Deploy):\n",
    "    space=Client.spaces.get_details()\n",
    "    return (next(item for item in space['resources'] if item['entity']['name']==FRS_Deploy)['metadata']['id'])"
   ]
  },
  {
   "cell_type": "code",
   "execution_count": 9,
   "metadata": {},
   "outputs": [
    {
     "name": "stdout",
     "output_type": "stream",
     "text": [
      "e3ba9685-b85b-4c8e-8f84-6c72f8f19ba0\n"
     ]
    }
   ],
   "source": [
    "space_ui=guid_space_name(Client,'FRS_Deploy')\n",
    "print(space_ui)"
   ]
  },
  {
   "cell_type": "code",
   "execution_count": 10,
   "metadata": {},
   "outputs": [
    {
     "data": {
      "text/plain": [
       "'SUCCESS'"
      ]
     },
     "execution_count": 10,
     "metadata": {},
     "output_type": "execute_result"
    }
   ],
   "source": [
    " Client.set.default_space(space_ui)"
   ]
  },
  {
   "cell_type": "code",
   "execution_count": 13,
   "metadata": {},
   "outputs": [
    {
     "name": "stdout",
     "output_type": "stream",
     "text": [
      "Successfully saved model content to file: 'Fruit-Plant_disease_Prediction.tar.gz'\n"
     ]
    },
    {
     "data": {
      "text/plain": [
       "'C:\\\\Users\\\\mahee\\\\Desktop\\\\Smart_Bridge\\\\FRS_Fruit_Vegetables_Classification/Fruit-Plant_disease_Prediction.tar.gz'"
      ]
     },
     "execution_count": 13,
     "metadata": {},
     "output_type": "execute_result"
    }
   ],
   "source": [
    "Client.repository.download(\"19c35527-da29-4aea-bd59-e4ecea4c336f\", \"Fruit-Plant_disease_Prediction.tar.gz\")"
   ]
  },
  {
   "cell_type": "code",
   "execution_count": 14,
   "metadata": {},
   "outputs": [
    {
     "name": "stdout",
     "output_type": "stream",
     "text": [
      "Successfully saved model content to file: 'Vegetable-Plant_disease_Prediction.tar.gz'\n"
     ]
    },
    {
     "data": {
      "text/plain": [
       "'C:\\\\Users\\\\mahee\\\\Desktop\\\\Smart_Bridge\\\\FRS_Fruit_Vegetables_Classification/Vegetable-Plant_disease_Prediction.tar.gz'"
      ]
     },
     "execution_count": 14,
     "metadata": {},
     "output_type": "execute_result"
    }
   ],
   "source": [
    "Client.repository.download(\"42cf1660-ec66-4556-bf96-d7c4e962a81f\", \"Vegetable-Plant_disease_Prediction.tar.gz\")"
   ]
  },
  {
   "cell_type": "code",
   "execution_count": null,
   "metadata": {},
   "outputs": [],
   "source": []
  }
 ],
 "metadata": {
  "kernelspec": {
   "display_name": "Python 3",
   "language": "python",
   "name": "python3"
  },
  "language_info": {
   "codemirror_mode": {
    "name": "ipython",
    "version": 3
   },
   "file_extension": ".py",
   "mimetype": "text/x-python",
   "name": "python",
   "nbconvert_exporter": "python",
   "pygments_lexer": "ipython3",
   "version": "3.6.12"
  }
 },
 "nbformat": 4,
 "nbformat_minor": 4
}
